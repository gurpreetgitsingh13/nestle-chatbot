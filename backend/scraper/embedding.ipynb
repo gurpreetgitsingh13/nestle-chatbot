{
 "cells": [
  {
   "cell_type": "code",
   "execution_count": 1,
   "id": "5f2747e4-ac3b-4e79-b7cb-f50178eee7e4",
   "metadata": {},
   "outputs": [
    {
     "name": "stderr",
     "output_type": "stream",
     "text": [
      "/opt/anaconda3/lib/python3.11/site-packages/tqdm/auto.py:21: TqdmWarning: IProgress not found. Please update jupyter and ipywidgets. See https://ipywidgets.readthedocs.io/en/stable/user_install.html\n",
      "  from .autonotebook import tqdm as notebook_tqdm\n"
     ]
    }
   ],
   "source": [
    "import json\n",
    "import faiss\n",
    "import numpy as np\n",
    "import pandas as pd\n",
    "from sentence_transformers import SentenceTransformer\n",
    "\n",
    "\n",
    "with open(\"nestle_cleaned.json\") as f:\n",
    "    data = json.load(f)\n",
    "\n",
    "df = pd.DataFrame(data)\n",
    "df = df[df['text'].str.len() > 50].reset_index(drop=True)  # filter again just in case\n",
    "texts = df['text'].tolist()\n"
   ]
  },
  {
   "cell_type": "code",
   "execution_count": null,
   "id": "36dbffd8-68c6-43a4-ba91-bdcfd8d325d0",
   "metadata": {},
   "outputs": [
    {
     "name": "stderr",
     "output_type": "stream",
     "text": [
      "Batches:   0%|                                            | 0/3 [00:00<?, ?it/s]"
     ]
    }
   ],
   "source": [
    "\n",
    "\n",
    "\n",
    "model = SentenceTransformer('all-mpnet-base-v2')\n",
    "embeddings = model.encode(texts, show_progress_bar=True)\n"
   ]
  },
  {
   "cell_type": "code",
   "execution_count": 5,
   "id": "0810f13c-10d2-4ae5-9d78-fd2019b009f6",
   "metadata": {},
   "outputs": [],
   "source": [
    "\n",
    "\n",
    "dimension = embeddings[0].shape[0]\n",
    "index = faiss.IndexFlatL2(dimension)\n",
    "index.add(np.array(embeddings))\n"
   ]
  },
  {
   "cell_type": "code",
   "execution_count": 11,
   "id": "300c8421-615e-440e-a4de-31e9c26d7d35",
   "metadata": {},
   "outputs": [
    {
     "name": "stdout",
     "output_type": "stream",
     "text": [
      "\n",
      "Title: World of Flavours | Made with nestle\n",
      "URL: https://www.madewithnestle.ca/WOF-world-flavours\n",
      "Snippet: While we’ve all grown up with different cuisines and a world of flavours, we can always find a way to connect with others by sharing a meal together. Whether you’re enjoying traditional dishes from yo...\n",
      "\n",
      "Title: CARNATION Hot Chocolate | Canada’s #1 hot chocolate!\n",
      "URL: https://www.madewithnestle.ca/carnation-hot-chocolate\n",
      "Snippet: CARNATION Hot Chocolate gives families across Canada a warm hug. CARNATION Hot Chocolate gives families across Canada a warm hug.   Pets de sœur, literally translated as Nun farts,…and also known to s...\n",
      "\n",
      "Title: AERO Truffle Tarts | Made with nestle\n",
      "URL: https://www.madewithnestle.ca/recipes/aero-truffle-tarts\n",
      "Snippet: Tis the season for bubbly decadence! Place 1  chopped AERO Truffle Bar in a medium heatproof bowl. In a small saucepan over medium-high, heat cream until barely simmering. Immediately pour cream over ...\n",
      "\n",
      "Title: Chocolate Brownie Ice Cream Sandwiches Recipe | Häagen Dazs Canada\n",
      "URL: https://www.madewithnestle.ca/recipe/sea-salt-chocolate-brownie-ice-cream-sandwiches\n",
      "Snippet: Preheat the oven to 350F.In a large bowl, cream together butter and sugar until smooth. Beat in the egg, then stir in the vanilla. In a large bowl; sift together flour, cocoa, baking soda, salt and ca...\n",
      "\n",
      "Title: Quick and Easy Recipes for Breakfast, Lunch and Dinner |Nestle recipes\n",
      "URL: https://www.madewithnestle.ca/recipes\n",
      "Snippet: Category Brand Products Time Clear All Treat yourself with this delicious twist on iced coffee! Our dalgona coffee recipe is easily made in 3 quick steps, then you can sit back, relax and enjoy A chil...\n",
      "\n",
      "Title: Diwali | Made with Nestlé | Nestlé Canada\n",
      "URL: https://www.madewithnestle.ca/diwali\n",
      "Snippet: Whether you are exchanging gifts, lighting diyas, or decorating your home, we have some simple recipes you can serve your friends and family to celebrate the festival of lights. Whether you are exchan...\n",
      "\n",
      "Title: Snickerdoodle Ice Cream Cups Recipe | Häagen Dazs Canada\n",
      "URL: https://www.madewithnestle.ca/recipe/snickerdoodle-cups-vanilla-ice-cream\n",
      "Snippet: Preheat the oven to 350F. In a large bowl, cream together butter and sugar until smooth. Beat in the egg, then stir in the vanilla. Sift in flour, cream of tartar, baking soda and salt until just blen...\n",
      "\n",
      "Title: QUALITY STREET Holiday Gift Tin | Made with nestle\n",
      "URL: https://www.madewithnestle.ca/quality-street/quality-street-holiday-gift-tin\n",
      "Snippet: Celebrate with NESTLÉ QUALITY STREET! A Canadian favourite for over 75 years, QUALITY STREET'S decadent mix of chocolates and candies is a Canadian tradition. With treats like Truffle Block, Toffee Pe...\n",
      "\n",
      "Title: COFFEE CRISP | Makes a Nice Light Snack!\n",
      "URL: https://www.madewithnestle.ca/coffee-crisp\n",
      "Snippet: Wake up your taste buds with the perfect blend of crispy wafer & coffee crème covered in a thin chocolatey coating. Wake up your taste buds with the perfect blend of crispy wafer & coffee crème covere...\n",
      "\n",
      "Title: QUALITY STREET Holiday Gift Box | Made with nestle\n",
      "URL: https://www.madewithnestle.ca/quality-street/quality-street-holiday-gift-box\n",
      "Snippet: Celebrate the holidays with NESTLÉ QUALITY STREET! A Canadian favourite for over 75 years. With treats like Truffle Block, Toffee Penny, Orange Créme, Hazelnut Flavoured Triangle, Coconut Éclair, Cara...\n"
     ]
    }
   ],
   "source": [
    "query = \"chocolate dessert recipe\"\n",
    "query_embedding = model.encode([query])\n",
    "D, I = index.search(np.array(query_embedding), k=10)  # top 3 matches\n",
    "\n",
    "# Show results\n",
    "for i in I[0]:\n",
    "    print(f\"\\nTitle: {df.iloc[i]['title']}\")\n",
    "    print(f\"URL: {df.iloc[i]['url']}\")\n",
    "    print(f\"Snippet: {df.iloc[i]['text'][:200]}...\")\n"
   ]
  },
  {
   "cell_type": "code",
   "execution_count": null,
   "id": "43db7780-c1ac-4c9a-87be-9fe9b8f578df",
   "metadata": {},
   "outputs": [],
   "source": []
  },
  {
   "cell_type": "code",
   "execution_count": null,
   "id": "b4d9042f-ac54-40ad-a662-01a9a584a1ba",
   "metadata": {},
   "outputs": [],
   "source": []
  }
 ],
 "metadata": {
  "kernelspec": {
   "display_name": "Python [conda env:base] *",
   "language": "python",
   "name": "conda-base-py"
  },
  "language_info": {
   "codemirror_mode": {
    "name": "ipython",
    "version": 3
   },
   "file_extension": ".py",
   "mimetype": "text/x-python",
   "name": "python",
   "nbconvert_exporter": "python",
   "pygments_lexer": "ipython3",
   "version": "3.11.7"
  }
 },
 "nbformat": 4,
 "nbformat_minor": 5
}
