{
 "cells": [
  {
   "cell_type": "code",
   "execution_count": 1,
   "id": "6db95da6-c5c4-4835-b7ca-42bcf50c7b6b",
   "metadata": {},
   "outputs": [
    {
     "name": "stdout",
     "output_type": "stream",
     "text": [
      "Total pages scraped: 76\n"
     ]
    },
    {
     "data": {
      "text/html": [
       "<div>\n",
       "<style scoped>\n",
       "    .dataframe tbody tr th:only-of-type {\n",
       "        vertical-align: middle;\n",
       "    }\n",
       "\n",
       "    .dataframe tbody tr th {\n",
       "        vertical-align: top;\n",
       "    }\n",
       "\n",
       "    .dataframe thead th {\n",
       "        text-align: right;\n",
       "    }\n",
       "</style>\n",
       "<table border=\"1\" class=\"dataframe\">\n",
       "  <thead>\n",
       "    <tr style=\"text-align: right;\">\n",
       "      <th></th>\n",
       "      <th>url</th>\n",
       "      <th>title</th>\n",
       "      <th>text</th>\n",
       "      <th>links</th>\n",
       "    </tr>\n",
       "  </thead>\n",
       "  <tbody>\n",
       "    <tr>\n",
       "      <th>0</th>\n",
       "      <td>https://www.madewithnestle.ca/</td>\n",
       "      <td>Nestlé Brands' Products, Recipes and News | Ma...</td>\n",
       "      <td>Learn about our commitment to sustainable coco...</td>\n",
       "      <td>[#main-content, /, https://www.madewithnestle....</td>\n",
       "    </tr>\n",
       "    <tr>\n",
       "      <th>1</th>\n",
       "      <td>https://www.madewithnestle.ca/aero</td>\n",
       "      <td>AERO | Feel the Bubbles Melt | Nestlé Canada</td>\n",
       "      <td>Enter for a chance to WIN headphones or Spotif...</td>\n",
       "      <td>[/#facebook, /#twitter, /#pinterest, /#email, ...</td>\n",
       "    </tr>\n",
       "    <tr>\n",
       "      <th>2</th>\n",
       "      <td>https://www.madewithnestle.ca/coffee-crisp</td>\n",
       "      <td>COFFEE CRISP | Makes a Nice Light Snack!</td>\n",
       "      <td>Wake up your taste buds with the perfect blend...</td>\n",
       "      <td>[/#facebook, /#twitter, /#pinterest, /#email, ...</td>\n",
       "    </tr>\n",
       "    <tr>\n",
       "      <th>3</th>\n",
       "      <td>https://www.madewithnestle.ca/kit-kat</td>\n",
       "      <td>KITKAT | Have a Break | Made with Nestlé Canada</td>\n",
       "      <td>These cookies are necessary for the website t...</td>\n",
       "      <td>[#main-content, /, https://www.madewithnestle....</td>\n",
       "    </tr>\n",
       "    <tr>\n",
       "      <th>4</th>\n",
       "      <td>https://www.madewithnestle.ca/smarties</td>\n",
       "      <td>SMARTIES | How Do You Smarties?</td>\n",
       "      <td>Whether you shake, sort, or make your own crea...</td>\n",
       "      <td>[/#facebook, /#twitter, /#pinterest, /#email, ...</td>\n",
       "    </tr>\n",
       "  </tbody>\n",
       "</table>\n",
       "</div>"
      ],
      "text/plain": [
       "                                          url  \\\n",
       "0              https://www.madewithnestle.ca/   \n",
       "1          https://www.madewithnestle.ca/aero   \n",
       "2  https://www.madewithnestle.ca/coffee-crisp   \n",
       "3       https://www.madewithnestle.ca/kit-kat   \n",
       "4      https://www.madewithnestle.ca/smarties   \n",
       "\n",
       "                                               title  \\\n",
       "0  Nestlé Brands' Products, Recipes and News | Ma...   \n",
       "1       AERO | Feel the Bubbles Melt | Nestlé Canada   \n",
       "2           COFFEE CRISP | Makes a Nice Light Snack!   \n",
       "3    KITKAT | Have a Break | Made with Nestlé Canada   \n",
       "4                    SMARTIES | How Do You Smarties?   \n",
       "\n",
       "                                                text  \\\n",
       "0  Learn about our commitment to sustainable coco...   \n",
       "1  Enter for a chance to WIN headphones or Spotif...   \n",
       "2  Wake up your taste buds with the perfect blend...   \n",
       "3   These cookies are necessary for the website t...   \n",
       "4  Whether you shake, sort, or make your own crea...   \n",
       "\n",
       "                                               links  \n",
       "0  [#main-content, /, https://www.madewithnestle....  \n",
       "1  [/#facebook, /#twitter, /#pinterest, /#email, ...  \n",
       "2  [/#facebook, /#twitter, /#pinterest, /#email, ...  \n",
       "3  [#main-content, /, https://www.madewithnestle....  \n",
       "4  [/#facebook, /#twitter, /#pinterest, /#email, ...  "
      ]
     },
     "execution_count": 1,
     "metadata": {},
     "output_type": "execute_result"
    }
   ],
   "source": [
    "import json\n",
    "import pandas as pd\n",
    "\n",
    "with open(\"nestle_scraped.json\") as f:\n",
    "    raw_data = json.load(f)\n",
    "\n",
    "df = pd.DataFrame(raw_data)\n",
    "print(f\"Total pages scraped: {len(df)}\")\n",
    "df.head()\n"
   ]
  },
  {
   "cell_type": "code",
   "execution_count": null,
   "id": "666dc742-3b0f-4829-9376-a80aa7e8d9f2",
   "metadata": {},
   "outputs": [],
   "source": []
  },
  {
   "cell_type": "code",
   "execution_count": 3,
   "id": "e4a5ba66-0ed5-4c4f-818b-6e88a06b3422",
   "metadata": {},
   "outputs": [
    {
     "name": "stdout",
     "output_type": "stream",
     "text": [
      "Pages after cleanup: 75\n"
     ]
    }
   ],
   "source": [
    "# Drop entries where text is missing or too short\n",
    "df = df[df['text'].str.len() > 50]\n",
    "\n",
    "# Drop where title is missing or suspicious\n",
    "df = df[~df['title'].str.contains(\"Just a moment\", na=False)]\n",
    "df = df[df['title'].notnull()]\n",
    "\n",
    "df.reset_index(drop=True, inplace=True)\n",
    "print(f\"Pages after cleanup: {len(df)}\")\n"
   ]
  },
  {
   "cell_type": "code",
   "execution_count": null,
   "id": "62f691b9-e5d4-4bbe-93f2-45f12ab6d3de",
   "metadata": {},
   "outputs": [],
   "source": []
  },
  {
   "cell_type": "code",
   "execution_count": 5,
   "id": "4433b2f7-f380-4a84-82a3-9f4ebdd97fde",
   "metadata": {},
   "outputs": [],
   "source": [
    "def clean_text(text):\n",
    "    if not text: return \"\"\n",
    "    lines = text.split(\"\\n\")\n",
    "    junk_phrases = [\n",
    "        \"By continuing to use\", \"Terms of Service\", \"Privacy Policy\",\n",
    "        \"Accept cookies\", \"Nestlé Canada\", \"All rights reserved\"\n",
    "    ]\n",
    "    cleaned = []\n",
    "    for line in lines:\n",
    "        if not any(junk.lower() in line.lower() for junk in junk_phrases):\n",
    "            cleaned.append(line.strip())\n",
    "    return \" \".join(cleaned)\n",
    "\n",
    "df['clean_text'] = df['text'].apply(clean_text)\n"
   ]
  },
  {
   "cell_type": "code",
   "execution_count": null,
   "id": "1470ff17-a4ed-434f-ac5f-b29c0b4f473a",
   "metadata": {},
   "outputs": [],
   "source": []
  },
  {
   "cell_type": "code",
   "execution_count": 7,
   "id": "8e2498d4-6211-46d4-9958-e96ea979bedf",
   "metadata": {},
   "outputs": [
    {
     "name": "stdout",
     "output_type": "stream",
     "text": [
      "✅ Cleaned data saved to nestle_cleaned.json\n"
     ]
    }
   ],
   "source": [
    "# Save cleaned data to a new file\n",
    "cleaned = df[['url', 'title', 'clean_text']].rename(columns={'clean_text': 'text'})\n",
    "\n",
    "with open(\"nestle_cleaned.json\", \"w\") as f:\n",
    "    json.dump(cleaned.to_dict(orient=\"records\"), f, indent=2)\n",
    "\n",
    "print(\"✅ Cleaned data saved to nestle_cleaned.json\")\n"
   ]
  },
  {
   "cell_type": "code",
   "execution_count": null,
   "id": "42b216f9-fb23-4487-8e42-a851065fb814",
   "metadata": {},
   "outputs": [],
   "source": []
  },
  {
   "cell_type": "code",
   "execution_count": null,
   "id": "7a25b714-11ef-4e4a-8f75-aac63c1198f9",
   "metadata": {},
   "outputs": [],
   "source": []
  },
  {
   "cell_type": "code",
   "execution_count": null,
   "id": "ea524760-bde1-47e8-8d8b-14401fcaaa0b",
   "metadata": {},
   "outputs": [],
   "source": []
  },
  {
   "cell_type": "code",
   "execution_count": null,
   "id": "3af14dc9-d610-4cd3-b354-7aab2da1abcc",
   "metadata": {},
   "outputs": [],
   "source": []
  },
  {
   "cell_type": "code",
   "execution_count": null,
   "id": "bd90f437-92db-4854-a572-d355ae62b916",
   "metadata": {},
   "outputs": [],
   "source": []
  },
  {
   "cell_type": "code",
   "execution_count": null,
   "id": "3431bcec-a198-4a29-82a7-bd6c4fcff080",
   "metadata": {},
   "outputs": [],
   "source": []
  }
 ],
 "metadata": {
  "kernelspec": {
   "display_name": "Python [conda env:base] *",
   "language": "python",
   "name": "conda-base-py"
  },
  "language_info": {
   "codemirror_mode": {
    "name": "ipython",
    "version": 3
   },
   "file_extension": ".py",
   "mimetype": "text/x-python",
   "name": "python",
   "nbconvert_exporter": "python",
   "pygments_lexer": "ipython3",
   "version": "3.11.7"
  }
 },
 "nbformat": 4,
 "nbformat_minor": 5
}
